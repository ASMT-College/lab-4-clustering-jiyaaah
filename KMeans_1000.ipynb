{
 "cells": [
  {
   "cell_type": "code",
   "execution_count": 3,
   "id": "9875db8d-bcaa-42b7-a714-021736e45482",
   "metadata": {},
   "outputs": [
    {
     "name": "stdout",
     "output_type": "stream",
     "text": [
      "Name: Jiya Hona\n",
      "Symbol: 29097/078\n",
      "\n",
      "Time taken by K-means to find clusters: 0.0111 seconds\n",
      "\n",
      "Cluster Centers:\n",
      " [[25.91194647 27.45654701]\n",
      " [46.31333619 78.99389581]\n",
      " [79.32395533 33.95158145]]\n"
     ]
    },
    {
     "name": "stderr",
     "output_type": "stream",
     "text": [
      "C:\\Users\\rohan\\anaconda3\\Lib\\site-packages\\sklearn\\cluster\\_kmeans.py:1429: UserWarning: KMeans is known to have a memory leak on Windows with MKL, when there are less chunks than available threads. You can avoid it by setting the environment variable OMP_NUM_THREADS=4.\n",
      "  warnings.warn(\n"
     ]
    }
   ],
   "source": [
    "import numpy as np\n",
    "import time\n",
    "from sklearn.cluster import KMeans\n",
    "\n",
    "print(\"Name: Jiya Hona\")\n",
    "print(\"Symbol: 29097/078\\n\")\n",
    "\n",
    "# Generate 1000 2D data points in range 0–100\n",
    "data = np.random.rand(1000, 2) * 100\n",
    "\n",
    "# Initialize K-means with 3 clusters\n",
    "kmeans = KMeans(n_clusters=3, random_state=42)\n",
    "\n",
    "# Measure execution time\n",
    "start_time = time.time()\n",
    "kmeans.fit(data)\n",
    "end_time = time.time()\n",
    "\n",
    "# Calculate and print results\n",
    "time_taken = end_time - start_time\n",
    "print(f\"Time taken by K-means to find clusters: {time_taken:.4f} seconds\\n\")\n",
    "print(\"Cluster Centers:\\n\", kmeans.cluster_centers_)\n"
   ]
  }
 ],
 "metadata": {
  "kernelspec": {
   "display_name": "Python [conda env:base] *",
   "language": "python",
   "name": "conda-base-py"
  },
  "language_info": {
   "codemirror_mode": {
    "name": "ipython",
    "version": 3
   },
   "file_extension": ".py",
   "mimetype": "text/x-python",
   "name": "python",
   "nbconvert_exporter": "python",
   "pygments_lexer": "ipython3",
   "version": "3.12.7"
  }
 },
 "nbformat": 4,
 "nbformat_minor": 5
}
